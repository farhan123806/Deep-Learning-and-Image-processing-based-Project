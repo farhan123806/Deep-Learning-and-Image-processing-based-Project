{
  "nbformat": 4,
  "nbformat_minor": 0,
  "metadata": {
    "colab": {
      "name": " Fashion MNIST using Convolutions.ipynb",
      "provenance": [],
      "collapsed_sections": []
    },
    "kernelspec": {
      "name": "python3",
      "display_name": "Python 3"
    },
    "accelerator": "GPU"
  },
  "cells": [
    {
      "metadata": {
        "id": "iQjHqsmTAVLU"
      },
      "cell_type": "markdown",
      "source": [
        "## Fashion MNIST using Convolutions\n",
        " improve MNIST to 99.8% accuracy or more using only a single convolutional layer and a single MaxPooling 2D. \n"
      ]
    },
    {
      "metadata": {
        "id": "sfQRyaJWAIdg",
        "outputId": "e1017cd5-a02d-47e5-e720-426c24af9d02",
        "colab": {
          "base_uri": "https://localhost:8080/",
          "height": 836
        }
      },
      "cell_type": "code",
      "source": [
        "import tensorflow as tf\n",
        "\n",
        "\n",
        "class StopTrainingCallback(tf.keras.callbacks.Callback):\n",
        "  def on_epoch_end(self, epoch, logs={}):\n",
        "    if (logs.get('acc') >= 0.998):\n",
        "      print('\\nReached 99.8% accuracy so cancelling training!')\n",
        "      self.model.stop_training = True\n",
        "\n",
        "mCallback = StopTrainingCallback()\n",
        "\n",
        "\n",
        "mnist = tf.keras.datasets.mnist\n",
        "(training_images, training_labels), (test_images, test_labels) = mnist.load_data()\n",
        "\n",
        "\n",
        "training_images = training_images.reshape([60000, 28, 28, 1])\n",
        "training_images = training_images / 255.0;\n",
        "test_images = test_images.reshape([10000, 28, 28, 1])\n",
        "test_images = test_images / 255.0;\n",
        "\n",
        "\n",
        "model = tf.keras.models.Sequential([\n",
        "    tf.keras.layers.Conv2D(64, (3,3), activation='relu', input_shape=(28, 28, 1)),\n",
        "    tf.keras.layers.MaxPooling2D(2, 2),\n",
        "    tf.keras.layers.Conv2D(64, (3,3), activation='relu'),\n",
        "    tf.keras.layers.MaxPooling2D(2, 2),\n",
        "    tf.keras.layers.Flatten(),\n",
        "    tf.keras.layers.Dense(128, activation='relu'),\n",
        "    tf.keras.layers.Dense(10, activation='softmax')\n",
        "])\n",
        "\n",
        "\n",
        "model.compile(optimizer='adam', loss='sparse_categorical_crossentropy', metrics=['accuracy'])\n",
        "model.summary()\n",
        "\n",
        "model.fit(training_images, training_labels, epochs=20, callbacks=[mCallback])\n",
        "test_loss = model.evaluate(test_images, test_labels)"
      ],
      "execution_count": null,
      "outputs": [
        {
          "output_type": "stream",
          "text": [
            "WARNING:tensorflow:From /usr/local/lib/python3.6/dist-packages/tensorflow/python/ops/resource_variable_ops.py:435: colocate_with (from tensorflow.python.framework.ops) is deprecated and will be removed in a future version.\n",
            "Instructions for updating:\n",
            "Colocations handled automatically by placer.\n",
            "_________________________________________________________________\n",
            "Layer (type)                 Output Shape              Param #   \n",
            "=================================================================\n",
            "conv2d (Conv2D)              (None, 26, 26, 64)        640       \n",
            "_________________________________________________________________\n",
            "max_pooling2d (MaxPooling2D) (None, 13, 13, 64)        0         \n",
            "_________________________________________________________________\n",
            "conv2d_1 (Conv2D)            (None, 11, 11, 64)        36928     \n",
            "_________________________________________________________________\n",
            "max_pooling2d_1 (MaxPooling2 (None, 5, 5, 64)          0         \n",
            "_________________________________________________________________\n",
            "flatten (Flatten)            (None, 1600)              0         \n",
            "_________________________________________________________________\n",
            "dense (Dense)                (None, 128)               204928    \n",
            "_________________________________________________________________\n",
            "dense_1 (Dense)              (None, 10)                1290      \n",
            "=================================================================\n",
            "Total params: 243,786\n",
            "Trainable params: 243,786\n",
            "Non-trainable params: 0\n",
            "_________________________________________________________________\n",
            "Epoch 1/10\n",
            "60000/60000 [==============================] - 17s 288us/sample - loss: 0.1260 - acc: 0.9602\n",
            "Epoch 2/10\n",
            "60000/60000 [==============================] - 14s 239us/sample - loss: 0.0428 - acc: 0.9870\n",
            "Epoch 3/10\n",
            "60000/60000 [==============================] - 14s 238us/sample - loss: 0.0279 - acc: 0.9912\n",
            "Epoch 4/10\n",
            "60000/60000 [==============================] - 14s 238us/sample - loss: 0.0198 - acc: 0.9936\n",
            "Epoch 5/10\n",
            "60000/60000 [==============================] - 14s 238us/sample - loss: 0.0158 - acc: 0.9948\n",
            "Epoch 6/10\n",
            "60000/60000 [==============================] - 14s 237us/sample - loss: 0.0120 - acc: 0.9963\n",
            "Epoch 7/10\n",
            "60000/60000 [==============================] - 14s 238us/sample - loss: 0.0098 - acc: 0.9969\n",
            "Epoch 8/10\n",
            "60000/60000 [==============================] - 14s 237us/sample - loss: 0.0084 - acc: 0.9974\n",
            "Epoch 9/10\n",
            "60000/60000 [==============================] - 14s 237us/sample - loss: 0.0071 - acc: 0.9975\n",
            "Epoch 10/10\n",
            "59872/60000 [============================>.] - ETA: 0s - loss: 0.0059 - acc: 0.9983\n",
            "Reached 99.8% accuracy so cancelling training!\n",
            "60000/60000 [==============================] - 14s 237us/sample - loss: 0.0059 - acc: 0.9983\n",
            "10000/10000 [==============================] - 1s 105us/sample - loss: 0.0374 - acc: 0.9919\n"
          ],
          "name": "stdout"
        }
      ]
    }
  ]
}